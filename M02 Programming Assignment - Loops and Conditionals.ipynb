{
 "cells": [
  {
   "cell_type": "code",
   "execution_count": 1,
   "id": "b5553470",
   "metadata": {},
   "outputs": [
    {
     "name": "stdout",
     "output_type": "stream",
     "text": [
      "Can you guess the number between 1 and 10 that I'm thinking? or type ZZZ to quit.4\n",
      "Your guess is too low.\n",
      "Guess again between 1 and 10 that I'm thinking? or type ZZZ to quit.8\n",
      "Your guess is too high.\n",
      "Guess again between 1 and 10 that I'm thinking? or type ZZZ to quit.7\n",
      "You guessed the secret number, 7!\n"
     ]
    }
   ],
   "source": [
    "#Jordy Jordan\n",
    "#11/05/2022\n",
    "#M02 Loops and Conditionals\n",
    "\n",
    "#Things to Do - 4.1 Guess the number program \n",
    "\n",
    "#I chose a number, in this case is the number 7\n",
    "secret = str(7)\n",
    "\n",
    "#Need the user input and store it on guess\n",
    "guess = str(input(\"Can you guess the number between 1 and 10 that I'm thinking? or type ZZZ to quit.\"))\n",
    "\n",
    "\n",
    "#Did the user guess right? CHECK!    \n",
    "while guess != 'ZZZ':\n",
    "    if guess < secret:\n",
    "        print('Your guess is too low.')\n",
    "        guess = str(input(\"Guess again between 1 and 10 that I'm thinking? or type ZZZ to quit.\"))\n",
    "            \n",
    "    elif guess > secret:\n",
    "        print('Your guess is too high.')\n",
    "        guess = str(input(\"Guess again between 1 and 10 that I'm thinking? or type ZZZ to quit.\"))\n",
    "        \n",
    "    elif guess == secret:\n",
    "        print('You guessed the secret number, ' + secret +'!') \n",
    "        break\n",
    "        \n",
    "    else:\n",
    "        print('Something went wrong')\n"
   ]
  },
  {
   "cell_type": "code",
   "execution_count": 3,
   "id": "0ee08cc3",
   "metadata": {},
   "outputs": [
    {
     "name": "stdout",
     "output_type": "stream",
     "text": [
      "Small but not green\n",
      "cherry\n",
      "\n"
     ]
    }
   ],
   "source": [
    "#Things to Do - 4.2 cherry, pea, watermelon, pumpkin.\n",
    "\n",
    "\n",
    "small = True\n",
    "green = False\n",
    "\n",
    "#if small it goes here\n",
    "if small:\n",
    "    if green:#if small and green it goes here\n",
    "        print(\"pea\")\n",
    "        print(\"\")\n",
    "        \n",
    "    else:#if small but not green it goes here\n",
    "        print(\"cherry\")\n",
    "        print(\"\")\n",
    "        \n",
    "#if not small it goes here\n",
    "else:\n",
    "    if green:#if not small and green it goes here\n",
    "        print(\"watermelon\")\n",
    "        print(\"\")\n",
    "    else:#if not small and not green it goes here\n",
    "        print(\"pumpkin\")\n",
    "        print(\"\")"
   ]
  },
  {
   "cell_type": "code",
   "execution_count": 2,
   "id": "dcb14bb5",
   "metadata": {},
   "outputs": [
    {
     "name": "stdout",
     "output_type": "stream",
     "text": [
      "3\n",
      "2\n",
      "1\n",
      "0\n"
     ]
    }
   ],
   "source": [
    "#Things to Do - 6.1 use for loop.\n",
    "\n",
    "num_list = [3, 2, 1, 0]\n",
    "for c in num_list:\n",
    "    print(c)"
   ]
  },
  {
   "cell_type": "code",
   "execution_count": 4,
   "id": "623003ca",
   "metadata": {},
   "outputs": [
    {
     "name": "stdout",
     "output_type": "stream",
     "text": [
      "too low\n",
      "too low\n",
      "too low\n",
      "too low\n",
      "too low\n",
      "too low\n",
      "found it!\n"
     ]
    }
   ],
   "source": [
    "#Things to Do - 6.2 Still a loop thing\n",
    "\n",
    "guess_me = 7\n",
    "number = 1\n",
    "\n",
    "while True:\n",
    "    if number < guess_me:\n",
    "        print('too low')\n",
    "    elif number == guess_me:\n",
    "        print('found it!')\n",
    "        break\n",
    "    else:\n",
    "        print('oops')\n",
    "        break\n",
    "    number += 1"
   ]
  },
  {
   "cell_type": "code",
   "execution_count": 6,
   "id": "2cf87d19",
   "metadata": {},
   "outputs": [
    {
     "name": "stdout",
     "output_type": "stream",
     "text": [
      "too low\n",
      "too low\n",
      "too low\n",
      "too low\n",
      "too low\n",
      "found it !\n"
     ]
    }
   ],
   "source": [
    "#Things to Do - 6.3 Still a loop thing\n",
    "guess_me=5\n",
    "for number in range(10): \n",
    "    if number < guess_me: \n",
    "        print(\"too low\") \n",
    "    elif number == guess_me:\n",
    "        print(\"found it !\")  \n",
    "        break     \n",
    "    else: \n",
    "        print(\"oops\") \n",
    "        break "
   ]
  },
  {
   "cell_type": "code",
   "execution_count": null,
   "id": "4aae157a",
   "metadata": {},
   "outputs": [],
   "source": []
  }
 ],
 "metadata": {
  "kernelspec": {
   "display_name": "Python 3 (ipykernel)",
   "language": "python",
   "name": "python3"
  },
  "language_info": {
   "codemirror_mode": {
    "name": "ipython",
    "version": 3
   },
   "file_extension": ".py",
   "mimetype": "text/x-python",
   "name": "python",
   "nbconvert_exporter": "python",
   "pygments_lexer": "ipython3",
   "version": "3.9.13"
  }
 },
 "nbformat": 4,
 "nbformat_minor": 5
}
